{
 "cells": [
  {
   "cell_type": "code",
   "execution_count": null,
   "id": "695c1041",
   "metadata": {},
   "outputs": [],
   "source": [
    "N = int(input('Enter an even number:'))\n",
    "sum_even = 0\n",
    "x = 1\n",
    "\n",
    "while x <= N :\n",
    "   if x%2 == 0:\n",
    "        sum_even += x\n",
    "    x=x+1\n",
    "print('the sum of even number', N,'is:', sum_even)"
   ]
  },
  {
   "cell_type": "code",
   "execution_count": null,
   "id": "1115ebbe",
   "metadata": {},
   "outputs": [],
   "source": []
  },
  {
   "cell_type": "code",
   "execution_count": null,
   "id": "20d3aadc",
   "metadata": {},
   "outputs": [],
   "source": []
  }
 ],
 "metadata": {
  "kernelspec": {
   "display_name": "Python 3 (ipykernel)",
   "language": "python",
   "name": "python3"
  },
  "language_info": {
   "codemirror_mode": {
    "name": "ipython",
    "version": 3
   },
   "file_extension": ".py",
   "mimetype": "text/x-python",
   "name": "python",
   "nbconvert_exporter": "python",
   "pygments_lexer": "ipython3",
   "version": "3.11.5"
  }
 },
 "nbformat": 4,
 "nbformat_minor": 5
}
