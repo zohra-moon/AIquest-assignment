{
 "cells": [
  {
   "cell_type": "code",
   "execution_count": 7,
   "id": "f20c36ba",
   "metadata": {},
   "outputs": [
    {
     "name": "stdout",
     "output_type": "stream",
     "text": [
      "enter year= 2016\n",
      "2016 is leap year\n"
     ]
    }
   ],
   "source": [
    "#if a year is leap year or not\n",
    "year= int(input('enter year= '))\n",
    "if year % 4==0 and year%100!=0:\n",
    "    print('{} is leap year'.format(year))\n",
    "elif year % 400==0:\n",
    "    print('{} is leap year'.format(year))\n",
    "else:\n",
    "    print('{} is not leap year'.format (year))"
   ]
  },
  {
   "cell_type": "code",
   "execution_count": null,
   "id": "3434a62c",
   "metadata": {},
   "outputs": [],
   "source": []
  },
  {
   "cell_type": "code",
   "execution_count": null,
   "id": "132031a2",
   "metadata": {},
   "outputs": [],
   "source": []
  }
 ],
 "metadata": {
  "kernelspec": {
   "display_name": "Python 3 (ipykernel)",
   "language": "python",
   "name": "python3"
  },
  "language_info": {
   "codemirror_mode": {
    "name": "ipython",
    "version": 3
   },
   "file_extension": ".py",
   "mimetype": "text/x-python",
   "name": "python",
   "nbconvert_exporter": "python",
   "pygments_lexer": "ipython3",
   "version": "3.11.5"
  }
 },
 "nbformat": 4,
 "nbformat_minor": 5
}
