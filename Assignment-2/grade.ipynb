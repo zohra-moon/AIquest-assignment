{
 "cells": [
  {
   "cell_type": "code",
   "execution_count": 3,
   "id": "1c2a0388",
   "metadata": {},
   "outputs": [
    {
     "name": "stdout",
     "output_type": "stream",
     "text": [
      "enter the percentage: 30\n",
      "Fail\n"
     ]
    }
   ],
   "source": [
    "#Calculate Grade\n",
    "per= float(input('enter the percentage: '))\n",
    "if per>=80 and per<100:\n",
    "    print('Grade: A+')\n",
    "elif per>=70 and per<80:\n",
    "    print('Grade:A')\n",
    "elif per>=60 and per<70:\n",
    "    print('Grade:A-')\n",
    "elif per>=50 and per<60:\n",
    "    print('Grade:B')\n",
    "elif per>=40 and per<50:\n",
    "    print('Grade:C')\n",
    "else:\n",
    "    print('Fail')"
   ]
  },
  {
   "cell_type": "code",
   "execution_count": null,
   "id": "0f22b337",
   "metadata": {},
   "outputs": [],
   "source": []
  }
 ],
 "metadata": {
  "kernelspec": {
   "display_name": "Python 3 (ipykernel)",
   "language": "python",
   "name": "python3"
  },
  "language_info": {
   "codemirror_mode": {
    "name": "ipython",
    "version": 3
   },
   "file_extension": ".py",
   "mimetype": "text/x-python",
   "name": "python",
   "nbconvert_exporter": "python",
   "pygments_lexer": "ipython3",
   "version": "3.11.5"
  }
 },
 "nbformat": 4,
 "nbformat_minor": 5
}
