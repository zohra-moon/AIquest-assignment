{
 "cells": [
  {
   "cell_type": "code",
   "execution_count": 1,
   "id": "004a2e1d",
   "metadata": {},
   "outputs": [
    {
     "name": "stdout",
     "output_type": "stream",
     "text": [
      "enter 1st number: 3\n",
      "enter 2nd number: 6\n",
      "The GCD of 3 and 6 is: 3\n"
     ]
    }
   ],
   "source": [
    "#find GCD\n",
    "\n",
    "x=int(input(\"enter 1st number: \"))\n",
    "y=int(input(\"enter 2nd number: \"))\n",
    "i=1\n",
    "\n",
    "while (i<=x and i<=y):\n",
    "    if(x%i==0 and y%i==0):\n",
    "        gcd=i\n",
    "    i +=1\n",
    "print(\"The GCD of\" ,x,\"and\" ,y, \"is:\",gcd)"
   ]
  },
  {
   "cell_type": "code",
   "execution_count": null,
   "id": "f5d59ef6",
   "metadata": {},
   "outputs": [],
   "source": []
  }
 ],
 "metadata": {
  "kernelspec": {
   "display_name": "Python 3 (ipykernel)",
   "language": "python",
   "name": "python3"
  },
  "language_info": {
   "codemirror_mode": {
    "name": "ipython",
    "version": 3
   },
   "file_extension": ".py",
   "mimetype": "text/x-python",
   "name": "python",
   "nbconvert_exporter": "python",
   "pygments_lexer": "ipython3",
   "version": "3.11.5"
  }
 },
 "nbformat": 4,
 "nbformat_minor": 5
}
