{
 "cells": [
  {
   "cell_type": "code",
   "execution_count": 5,
   "id": "0c72c500",
   "metadata": {},
   "outputs": [
    {
     "name": "stdout",
     "output_type": "stream",
     "text": [
      "Length = 10\n",
      "Width = 50\n",
      "Area of the reactangle =  500.0\n"
     ]
    }
   ],
   "source": [
    "#calculate area of rectangle\n",
    "L = float(input('Length = '))\n",
    "W = float(input('Width = '))\n",
    "A = L*W\n",
    "print(\"Area of the rectangle = \", A)"
   ]
  },
  {
   "cell_type": "code",
   "execution_count": null,
   "id": "f4e6f5c9",
   "metadata": {},
   "outputs": [],
   "source": []
  }
 ],
 "metadata": {
  "kernelspec": {
   "display_name": "Python 3 (ipykernel)",
   "language": "python",
   "name": "python3"
  },
  "language_info": {
   "codemirror_mode": {
    "name": "ipython",
    "version": 3
   },
   "file_extension": ".py",
   "mimetype": "text/x-python",
   "name": "python",
   "nbconvert_exporter": "python",
   "pygments_lexer": "ipython3",
   "version": "3.11.5"
  }
 },
 "nbformat": 4,
 "nbformat_minor": 5
}
