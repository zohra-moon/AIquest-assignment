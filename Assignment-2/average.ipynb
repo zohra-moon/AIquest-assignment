{
 "cells": [
  {
   "cell_type": "code",
   "execution_count": 1,
   "id": "6e8d364c",
   "metadata": {},
   "outputs": [
    {
     "name": "stdout",
     "output_type": "stream",
     "text": [
      "enter 1st number=2\n",
      "enter 2nd number=3\n",
      "enter 3rd number=5\n",
      "Average of x,y and z= 3.3333333333333335\n"
     ]
    }
   ],
   "source": [
    "#average of 3 numbers\n",
    "x= int(input('enter 1st number='))\n",
    "y= int(input('enter 2nd number='))\n",
    "z= int(input('enter 3rd number='))\n",
    "average= (x+y+z)/3\n",
    "print('Average of x,y and z=',average)"
   ]
  },
  {
   "cell_type": "code",
   "execution_count": null,
   "id": "150ce6af",
   "metadata": {},
   "outputs": [],
   "source": []
  }
 ],
 "metadata": {
  "kernelspec": {
   "display_name": "Python 3 (ipykernel)",
   "language": "python",
   "name": "python3"
  },
  "language_info": {
   "codemirror_mode": {
    "name": "ipython",
    "version": 3
   },
   "file_extension": ".py",
   "mimetype": "text/x-python",
   "name": "python",
   "nbconvert_exporter": "python",
   "pygments_lexer": "ipython3",
   "version": "3.11.5"
  }
 },
 "nbformat": 4,
 "nbformat_minor": 5
}
