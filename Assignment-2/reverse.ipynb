{
 "cells": [
  {
   "cell_type": "code",
   "execution_count": 1,
   "id": "c127b375",
   "metadata": {},
   "outputs": [
    {
     "name": "stdout",
     "output_type": "stream",
     "text": [
      "Enter the number:58\n",
      "the reverse number is 85\n"
     ]
    }
   ],
   "source": [
    "#reverse a number\n",
    "N=int(input('Enter the number:'))\n",
    "rev=0 \n",
    "\n",
    "while (N>0):\n",
    "    d= N%10\n",
    "    rev= rev*10+d\n",
    "    N= N//10\n",
    "print('the reverse number is',rev)"
   ]
  },
  {
   "cell_type": "code",
   "execution_count": null,
   "id": "240648f9",
   "metadata": {},
   "outputs": [],
   "source": []
  }
 ],
 "metadata": {
  "kernelspec": {
   "display_name": "Python 3 (ipykernel)",
   "language": "python",
   "name": "python3"
  },
  "language_info": {
   "codemirror_mode": {
    "name": "ipython",
    "version": 3
   },
   "file_extension": ".py",
   "mimetype": "text/x-python",
   "name": "python",
   "nbconvert_exporter": "python",
   "pygments_lexer": "ipython3",
   "version": "3.11.5"
  }
 },
 "nbformat": 4,
 "nbformat_minor": 5
}
