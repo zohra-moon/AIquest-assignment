{
 "cells": [
  {
   "cell_type": "code",
   "execution_count": 6,
   "id": "f473cc52",
   "metadata": {},
   "outputs": [
    {
     "name": "stdout",
     "output_type": "stream",
     "text": [
      "number of terms=9\n",
      "0 1 1 2 3 5 8 13 21 "
     ]
    }
   ],
   "source": [
    "#fibonacci sereis\n",
    "terms= int(input('number of terms='))\n",
    "n1, n2=0,1 #1st and 2nd term\n",
    "if terms<=0:\n",
    "    print('the output is', n1)\n",
    "else:\n",
    "    print(n1,n2, end=\" \")\n",
    "    for x in range(2,terms):\n",
    "        n3=n1+n2\n",
    "        print(n3, end=\" \")\n",
    "        n1=n2\n",
    "        n2=n3\n",
    "\n",
    "    "
   ]
  },
  {
   "cell_type": "code",
   "execution_count": null,
   "id": "6dc96fbd",
   "metadata": {},
   "outputs": [],
   "source": []
  }
 ],
 "metadata": {
  "kernelspec": {
   "display_name": "Python 3 (ipykernel)",
   "language": "python",
   "name": "python3"
  },
  "language_info": {
   "codemirror_mode": {
    "name": "ipython",
    "version": 3
   },
   "file_extension": ".py",
   "mimetype": "text/x-python",
   "name": "python",
   "nbconvert_exporter": "python",
   "pygments_lexer": "ipython3",
   "version": "3.11.5"
  }
 },
 "nbformat": 4,
 "nbformat_minor": 5
}
