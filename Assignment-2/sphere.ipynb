{
 "cells": [
  {
   "cell_type": "code",
   "execution_count": 12,
   "id": "c219151c",
   "metadata": {},
   "outputs": [
    {
     "name": "stdout",
     "output_type": "stream",
     "text": [
      "Radius of sphere=2\n",
      "Volume of the sphere=  33.5104\n"
     ]
    }
   ],
   "source": [
    "#Volume pf sphere\n",
    "R= float(input('Radius of sphere='))\n",
    "V = (3.1416* R**3 )*(4/3)\n",
    "print('Volume of the sphere= ',V)\n"
   ]
  },
  {
   "cell_type": "code",
   "execution_count": null,
   "id": "8cc1a84f",
   "metadata": {},
   "outputs": [],
   "source": []
  },
  {
   "cell_type": "code",
   "execution_count": null,
   "id": "84edf353",
   "metadata": {},
   "outputs": [],
   "source": []
  }
 ],
 "metadata": {
  "kernelspec": {
   "display_name": "Python 3 (ipykernel)",
   "language": "python",
   "name": "python3"
  },
  "language_info": {
   "codemirror_mode": {
    "name": "ipython",
    "version": 3
   },
   "file_extension": ".py",
   "mimetype": "text/x-python",
   "name": "python",
   "nbconvert_exporter": "python",
   "pygments_lexer": "ipython3",
   "version": "3.11.5"
  }
 },
 "nbformat": 4,
 "nbformat_minor": 5
}
