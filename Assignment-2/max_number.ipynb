{
 "cells": [
  {
   "cell_type": "code",
   "execution_count": 3,
   "id": "3b95135b",
   "metadata": {},
   "outputs": [
    {
     "name": "stdout",
     "output_type": "stream",
     "text": [
      "1st number=2\n",
      "2nd number=5\n",
      "3rd number=8\n",
      "The maximum number is the 3rd number 8\n"
     ]
    }
   ],
   "source": [
    "#maximum of three numbers\n",
    "x= int(input('1st number='))\n",
    "y= int(input('2nd number='))\n",
    "z= int(input('3rd number='))\n",
    "if x>y and x>z:\n",
    "    print('The maximum number is the 1st number', x)\n",
    "elif y>x and y>z:\n",
    "    print('The maximum number is the 2nd number', y)\n",
    "else:\n",
    "    print('The maximum number is the 3rd number', z)"
   ]
  },
  {
   "cell_type": "code",
   "execution_count": null,
   "id": "7c992811",
   "metadata": {},
   "outputs": [],
   "source": []
  }
 ],
 "metadata": {
  "kernelspec": {
   "display_name": "Python 3 (ipykernel)",
   "language": "python",
   "name": "python3"
  },
  "language_info": {
   "codemirror_mode": {
    "name": "ipython",
    "version": 3
   },
   "file_extension": ".py",
   "mimetype": "text/x-python",
   "name": "python",
   "nbconvert_exporter": "python",
   "pygments_lexer": "ipython3",
   "version": "3.11.5"
  }
 },
 "nbformat": 4,
 "nbformat_minor": 5
}
