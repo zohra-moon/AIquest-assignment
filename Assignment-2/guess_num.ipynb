{
 "cells": [
  {
   "cell_type": "code",
   "execution_count": null,
   "id": "9105a281",
   "metadata": {},
   "outputs": [],
   "source": [
    "import random\n",
    "n= random.randrange(1,100)\n",
    "guess=int(input(\"Guess the number from 1 to 100: \"))\n",
    "\n",
    "while guess!=n:\n",
    "    print(\"Sorry! Wrong Guess :( try again!\")\n",
    "    guess=int(input(\"Guess the number from 1 to 100\"))\n",
    "print(\"Congratulations! You guessed the correct number\")"
   ]
  },
  {
   "cell_type": "code",
   "execution_count": null,
   "id": "cb50d1e5",
   "metadata": {},
   "outputs": [],
   "source": []
  }
 ],
 "metadata": {
  "kernelspec": {
   "display_name": "Python 3 (ipykernel)",
   "language": "python",
   "name": "python3"
  },
  "language_info": {
   "codemirror_mode": {
    "name": "ipython",
    "version": 3
   },
   "file_extension": ".py",
   "mimetype": "text/x-python",
   "name": "python",
   "nbconvert_exporter": "python",
   "pygments_lexer": "ipython3",
   "version": "3.11.5"
  }
 },
 "nbformat": 4,
 "nbformat_minor": 5
}
