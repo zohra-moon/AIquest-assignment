{
 "cells": [
  {
   "cell_type": "code",
   "execution_count": 2,
   "id": "8b8ce02d",
   "metadata": {},
   "outputs": [
    {
     "name": "stdout",
     "output_type": "stream",
     "text": [
      "enter the string:101\n",
      "the string is palidrome\n"
     ]
    }
   ],
   "source": [
    "st = input(\"enter the string:\")\n",
    "L = len(st)\n",
    "p = L-1\n",
    "q = 0\n",
    "\n",
    "while q<p:\n",
    "    if st[p]==st[q]:\n",
    "        q += 1\n",
    "        p -= 1\n",
    "        print(\"the string is palindrome\")\n",
    "    else:\n",
    "        print(\"the string is not palindrome\")\n",
    "        "
   ]
  },
  {
   "cell_type": "code",
   "execution_count": null,
   "id": "bd304150",
   "metadata": {},
   "outputs": [],
   "source": []
  }
 ],
 "metadata": {
  "kernelspec": {
   "display_name": "Python 3 (ipykernel)",
   "language": "python",
   "name": "python3"
  },
  "language_info": {
   "codemirror_mode": {
    "name": "ipython",
    "version": 3
   },
   "file_extension": ".py",
   "mimetype": "text/x-python",
   "name": "python",
   "nbconvert_exporter": "python",
   "pygments_lexer": "ipython3",
   "version": "3.11.5"
  }
 },
 "nbformat": 4,
 "nbformat_minor": 5
}
