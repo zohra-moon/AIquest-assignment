{
 "cells": [
  {
   "cell_type": "code",
   "execution_count": 5,
   "id": "82749460",
   "metadata": {},
   "outputs": [
    {
     "name": "stdout",
     "output_type": "stream",
     "text": [
      "number=5\n",
      "The factorial of 5 is 1\n",
      "The factorial of 5 is 2\n",
      "The factorial of 5 is 6\n",
      "The factorial of 5 is 24\n",
      "The factorial of 5 is 120\n"
     ]
    }
   ],
   "source": [
    "#factorial\n",
    "N= int(input('number='))\n",
    "Fact=1\n",
    "for i in range(1, N+1):\n",
    "    Fact=Fact*i\n",
    "    print('The factorial of {} is {}'.format(N,Fact))"
   ]
  },
  {
   "cell_type": "code",
   "execution_count": null,
   "id": "0d805038",
   "metadata": {},
   "outputs": [],
   "source": []
  }
 ],
 "metadata": {
  "kernelspec": {
   "display_name": "Python 3 (ipykernel)",
   "language": "python",
   "name": "python3"
  },
  "language_info": {
   "codemirror_mode": {
    "name": "ipython",
    "version": 3
   },
   "file_extension": ".py",
   "mimetype": "text/x-python",
   "name": "python",
   "nbconvert_exporter": "python",
   "pygments_lexer": "ipython3",
   "version": "3.11.5"
  }
 },
 "nbformat": 4,
 "nbformat_minor": 5
}
